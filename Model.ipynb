{
 "cells": [
  {
   "cell_type": "code",
   "execution_count": 51,
   "id": "a3b9014a-eacb-4a10-bbc0-ec665ecef187",
   "metadata": {},
   "outputs": [],
   "source": [
    "import torch.nn as nn\n",
    "import torch.nn.functional as F\n"
   ]
  },
  {
   "cell_type": "code",
   "execution_count": 54,
   "id": "0598d44c-f980-4155-a2d3-c8b95b24e7c0",
   "metadata": {},
   "outputs": [],
   "source": [
    "class Autoencoder(nn.Module):\n",
    "    def __init__(self, n_inputs, n_hiddens):\n",
    "        super().__init__()\n",
    "        \n",
    "        self.encoder = nn.Linear(n_inputs, n_hiddens)\n",
    "        self.decoder = nn.Linear(n_hiddens, n_inputs)\n",
    "        \n",
    "    def forward(self, X):\n",
    "        X = torch.flatten(X)\n",
    "        \n",
    "        self.encoded = F.relu(self.encoder(X))\n",
    "        self.decoded = F.relu(self.decoder(self.encoded))\n",
    "        \n",
    "        return self.decoded"
   ]
  },
  {
   "cell_type": "code",
   "execution_count": null,
   "id": "e541c563-1498-49b9-8d02-78db60c1589e",
   "metadata": {},
   "outputs": [],
   "source": []
  },
  {
   "cell_type": "code",
   "execution_count": 55,
   "id": "a6581700-97f4-463c-8eeb-79d8ecfaa93d",
   "metadata": {},
   "outputs": [],
   "source": [
    "AE = Autoencoder(10,20)"
   ]
  },
  {
   "cell_type": "code",
   "execution_count": 56,
   "id": "e6c4e252-e612-45e1-b498-2a207eae600f",
   "metadata": {},
   "outputs": [],
   "source": [
    "sample = torch.rand(size=(2,5))\n"
   ]
  },
  {
   "cell_type": "code",
   "execution_count": 57,
   "id": "41abbe59-fc0b-46fe-a48d-946f933e892c",
   "metadata": {},
   "outputs": [
    {
     "data": {
      "text/plain": [
       "tensor([[0.0688, 0.4293, 0.9176, 0.9450, 0.8906],\n",
       "        [0.7386, 0.5831, 0.5876, 0.5224, 0.4935]])"
      ]
     },
     "execution_count": 57,
     "metadata": {},
     "output_type": "execute_result"
    }
   ],
   "source": [
    "F.relu(sample)"
   ]
  },
  {
   "cell_type": "code",
   "execution_count": 58,
   "id": "975e7fb6-f125-4a1f-8d43-a625a29336f1",
   "metadata": {},
   "outputs": [
    {
     "data": {
      "text/plain": [
       "tensor([0.2423, 0.2189, 0.0000, 0.0000, 0.4681, 0.2569, 0.0841, 0.0000, 0.0718,\n",
       "        0.0740], grad_fn=<ReluBackward0>)"
      ]
     },
     "execution_count": 58,
     "metadata": {},
     "output_type": "execute_result"
    }
   ],
   "source": [
    "AE(sample)"
   ]
  },
  {
   "cell_type": "code",
   "execution_count": null,
   "id": "8e18ca8d-c51d-439c-bbad-e16766db5327",
   "metadata": {},
   "outputs": [],
   "source": []
  }
 ],
 "metadata": {
  "kernelspec": {
   "display_name": "Python 3 (ipykernel)",
   "language": "python",
   "name": "python3"
  },
  "language_info": {
   "codemirror_mode": {
    "name": "ipython",
    "version": 3
   },
   "file_extension": ".py",
   "mimetype": "text/x-python",
   "name": "python",
   "nbconvert_exporter": "python",
   "pygments_lexer": "ipython3",
   "version": "3.9.6"
  }
 },
 "nbformat": 4,
 "nbformat_minor": 5
}
