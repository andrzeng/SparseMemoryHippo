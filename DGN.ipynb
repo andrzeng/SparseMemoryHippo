{
 "cells": [
  {
   "cell_type": "code",
   "execution_count": 2,
   "id": "bb062f83-afed-4432-8a02-fbfeb9c1a346",
   "metadata": {},
   "outputs": [],
   "source": [
    "import torch.nn as nn\n",
    "import torch.nn.functional as F\n",
    "import matplotlib.pyplot as plt\n",
    "import time\n",
    "import math\n",
    "import numpy as np\n",
    "import random\n",
    "import torch\n",
    "from torch.utils.data import Dataset, DataLoader"
   ]
  },
  {
   "cell_type": "code",
   "execution_count": 177,
   "id": "94067a93-00a4-4c96-91c7-9ea553df1ca1",
   "metadata": {},
   "outputs": [],
   "source": [
    "class DendriticGatedNet(nn.Module):\n",
    "    def __init__(self, n_inputs, n_hiddens, n_out):\n",
    "        super().__init__()\n",
    "        self.n_inputs = n_inputs\n",
    "        self.n_hiddens = n_hiddens\n",
    "        self.n_out = n_out\n",
    "        \n",
    "        self.layer1 = DendriticGatedLayer(\n",
    "            n_units=n_hiddens,\n",
    "            n_prev_layer_units=n_inputs,\n",
    "            n_network_inputs=n_inputs\n",
    "        )\n",
    "        \n",
    "        self.layer2 = DendriticGatedLayer(\n",
    "            n_units=n_hiddens,\n",
    "            n_prev_layer_units=n_hiddens,\n",
    "            n_network_inputs=n_inputs\n",
    "        )\n",
    "        \n",
    "        self.outlayer = nn.Linear(n_hiddens, n_out)\n",
    "    \n",
    "    def forward(self, X):\n",
    "        '''\n",
    "            TODO\n",
    "        '''\n",
    "        None\n",
    "    \n",
    "\n",
    "class DendriticGatedLayer(nn.Module):\n",
    "    def __init__(self, n_units, n_prev_layer_units, n_network_inputs):\n",
    "        super().__init__()\n",
    "        self.weights = nn.Parameter(torch.rand(n_units, n_prev_layer_units), requires_grad=True)\n",
    "        #self.halfplane_gates = torch.normal(torch.Tensor([[0]*n_units]*n_network_inputs)).T\n",
    "        self.halfplane_gates = torch.randn_like(torch.zeros(n_units,n_prev_layer_units,n_network_inputs))\n",
    "        \n",
    "        self.n_units = n_units\n",
    "        self.n_prev_layer_units = n_prev_layer_units\n",
    "        self.n_network_inputs = n_network_inputs\n",
    "        \n",
    "        \n",
    "    def forward(self, X, network_inputs, gate_threshold=0):\n",
    "        gating = (d.halfplane_gates @ network_inputs.T)\n",
    "        gate_states = torch.permute(gating, (2,0,1)) > 0\n",
    "        active_weights = torch.mul(self.weights.repeat([X.shape[0],1,1]), gate_states)\n",
    "        output = (active_weights @ X.T)[0].T\n",
    "        \n",
    "        '''\n",
    "            self.gate_states is now a (n_units x n_prev_layer_units) array.\n",
    "            Each row gives the gate state of the afferent synapses of a single unit in the current layer\n",
    "        '''\n",
    "        \n",
    "        return output\n",
    "        "
   ]
  },
  {
   "cell_type": "code",
   "execution_count": 174,
   "id": "da7dec4e-4a60-4b01-92ef-94f1eae8394b",
   "metadata": {},
   "outputs": [],
   "source": [
    "d = DendriticGatedLayer(10,5,2)"
   ]
  },
  {
   "cell_type": "code",
   "execution_count": 175,
   "id": "3166915a-0ad3-4d08-bb8c-c62f2e0c0282",
   "metadata": {},
   "outputs": [],
   "source": [
    "inp = torch.rand(4,5)\n",
    "network_inputs = torch.rand(4,2)"
   ]
  },
  {
   "cell_type": "code",
   "execution_count": 176,
   "id": "96d5b2e8-4f6b-4a3c-9bba-a659bd03c446",
   "metadata": {},
   "outputs": [
    {
     "data": {
      "text/plain": [
       "tensor([[0.2282, 1.2714, 0.0400, 0.0720, 0.7430, 1.0352, 0.4621, 0.0389, 0.1746,\n",
       "         0.1124],\n",
       "        [0.1787, 0.8203, 0.4011, 0.6507, 0.3355, 0.4218, 0.2907, 0.4208, 0.1629,\n",
       "         0.1397],\n",
       "        [0.2764, 1.4663, 0.3093, 0.6671, 1.0366, 1.0819, 0.8055, 0.3213, 0.4716,\n",
       "         0.3986],\n",
       "        [0.3226, 1.0308, 0.4489, 1.3911, 1.1897, 0.6068, 1.1889, 0.4685, 1.0649,\n",
       "         1.0100]], grad_fn=<PermuteBackward0>)"
      ]
     },
     "execution_count": 176,
     "metadata": {},
     "output_type": "execute_result"
    }
   ],
   "source": [
    "d.forward(inp, network_inputs)"
   ]
  },
  {
   "cell_type": "code",
   "execution_count": null,
   "id": "f3635122-f64a-4959-ad22-bce453766a2c",
   "metadata": {},
   "outputs": [],
   "source": []
  }
 ],
 "metadata": {
  "kernelspec": {
   "display_name": "Python 3 (ipykernel)",
   "language": "python",
   "name": "python3"
  },
  "language_info": {
   "codemirror_mode": {
    "name": "ipython",
    "version": 3
   },
   "file_extension": ".py",
   "mimetype": "text/x-python",
   "name": "python",
   "nbconvert_exporter": "python",
   "pygments_lexer": "ipython3",
   "version": "3.9.6"
  }
 },
 "nbformat": 4,
 "nbformat_minor": 5
}
