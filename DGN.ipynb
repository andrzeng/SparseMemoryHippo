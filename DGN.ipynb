{
 "cells": [
  {
   "cell_type": "code",
   "execution_count": 2,
   "id": "bb062f83-afed-4432-8a02-fbfeb9c1a346",
   "metadata": {},
   "outputs": [],
   "source": [
    "import torch.nn as nn\n",
    "import torch.nn.functional as F\n",
    "import matplotlib.pyplot as plt\n",
    "import time\n",
    "import math\n",
    "import numpy as np\n",
    "import random\n",
    "import torch\n",
    "from torch.utils.data import Dataset, DataLoader"
   ]
  },
  {
   "cell_type": "code",
   "execution_count": 280,
   "id": "94067a93-00a4-4c96-91c7-9ea553df1ca1",
   "metadata": {},
   "outputs": [],
   "source": [
    "class DendriticGatedLayer(nn.Module):\n",
    "    def __init__(self, n_units, n_prev_layer_units, n_network_inputs):\n",
    "        super().__init__()\n",
    "        self.weights = nn.Parameter(torch.rand(n_units, n_prev_layer_units), requires_grad=True)\n",
    "        #self.halfplane_gates = torch.normal(torch.Tensor([[0]*n_units]*n_network_inputs)).T\n",
    "        self.halfplane_gates = torch.randn_like(torch.zeros(n_units,n_prev_layer_units,n_network_inputs))\n",
    "        \n",
    "        self.n_units = n_units\n",
    "        self.n_prev_layer_units = n_prev_layer_units\n",
    "        self.n_network_inputs = n_network_inputs\n",
    "        \n",
    "        \n",
    "    def forward(self, X, network_inputs, gate_threshold=0):\n",
    "        gating = (self.halfplane_gates @ network_inputs.T)\n",
    "        gate_states = torch.permute(gating, (2,0,1)) > 0\n",
    "        active_weights = torch.mul(self.weights.repeat([X.shape[0],1,1]), gate_states)\n",
    "        output = (active_weights @ X.T)[0].T\n",
    "        \n",
    "        '''\n",
    "            self.gate_states is now a (n_units x n_prev_layer_units) array.\n",
    "            Each row gives the gate state of the afferent synapses of a single unit in the current layer\n",
    "        '''\n",
    "        return output\n",
    "        \n",
    "\n",
    "class DendriticGatedNet(nn.Module):\n",
    "    def __init__(self, n_inputs, n_hiddens, n_out):\n",
    "        super().__init__()\n",
    "        self.n_inputs = n_inputs\n",
    "        self.n_hiddens = n_hiddens\n",
    "        self.n_out = n_out\n",
    "        \n",
    "        self.layer1 = DendriticGatedLayer(\n",
    "            n_units=n_hiddens,\n",
    "            n_prev_layer_units=n_inputs,\n",
    "            n_network_inputs=n_inputs\n",
    "        )\n",
    "        \n",
    "        self.layer2 = DendriticGatedLayer(\n",
    "            n_units=n_hiddens,\n",
    "            n_prev_layer_units=n_hiddens,\n",
    "            n_network_inputs=n_inputs\n",
    "        )\n",
    "        \n",
    "        self.outlayer = nn.Linear(n_hiddens, n_out)\n",
    "    \n",
    "    def forward(self, X):\n",
    "        layer1_activity = self.layer1.forward(X,X)\n",
    "        layer2_activity = self.layer2.forward(layer1_activity, X)\n",
    "        out_activity = self.outlayer(layer2_activity)\n",
    "        \n",
    "        return F.relu(out_activity)"
   ]
  },
  {
   "cell_type": "code",
   "execution_count": 297,
   "id": "8ff1fe63-4e29-4030-8133-e83feda7cd48",
   "metadata": {},
   "outputs": [],
   "source": [
    "class RandomData(Dataset):\n",
    "    def __init__(self, \n",
    "                 pattern_length,\n",
    "                 dataset_size\n",
    "                ):\n",
    "        super().__init__()\n",
    "\n",
    "        memories = torch.Tensor(np.random.uniform(-1,1, size=(dataset_size,pattern_length)))\n",
    "        \n",
    "        self.data = memories\n",
    "        self.x = memories\n",
    "        #self.y = torch.randint(10, (dataset_size,1))\n",
    "        self.y = memories\n",
    "        self.n_samples = memories.shape[0]\n",
    "    \n",
    "    #Implement necessary helper functions\n",
    "    def __len__(self):\n",
    "        return len(self.data)\n",
    "    \n",
    "    def __getitem__(self, index):\n",
    "        return self.x[index], self.y[index]"
   ]
  },
  {
   "cell_type": "code",
   "execution_count": 298,
   "id": "50c0a6fb-06d3-4c4b-91e8-d46502953b4e",
   "metadata": {},
   "outputs": [],
   "source": [
    "data = RandomData(32,512)"
   ]
  },
  {
   "cell_type": "code",
   "execution_count": 299,
   "id": "69b8321a-6533-4bff-a3bb-0aae4ef90751",
   "metadata": {},
   "outputs": [],
   "source": [
    "loader = DataLoader(data, batch_size=32, shuffle=True)"
   ]
  },
  {
   "cell_type": "code",
   "execution_count": 300,
   "id": "8dc406cd-6e40-4b5c-8ab3-a6b1ebf7b6c3",
   "metadata": {},
   "outputs": [],
   "source": [
    "net = DendriticGatedNet(32,10,32)"
   ]
  },
  {
   "cell_type": "code",
   "execution_count": 301,
   "id": "d22c16fb-6225-4716-b698-07ef5be80b0c",
   "metadata": {},
   "outputs": [],
   "source": [
    "sample = next(iter(loader))"
   ]
  },
  {
   "cell_type": "code",
   "execution_count": 303,
   "id": "262fe600-6f01-44cb-8e5e-ce9499d09acf",
   "metadata": {},
   "outputs": [
    {
     "data": {
      "text/plain": [
       "torch.Size([32, 32])"
      ]
     },
     "execution_count": 303,
     "metadata": {},
     "output_type": "execute_result"
    }
   ],
   "source": [
    "net(sample[0]).shape"
   ]
  },
  {
   "cell_type": "code",
   "execution_count": null,
   "id": "1d11c5ae-6833-4e6a-8be2-a5b95ae6354a",
   "metadata": {},
   "outputs": [],
   "source": []
  }
 ],
 "metadata": {
  "kernelspec": {
   "display_name": "Python 3 (ipykernel)",
   "language": "python",
   "name": "python3"
  },
  "language_info": {
   "codemirror_mode": {
    "name": "ipython",
    "version": 3
   },
   "file_extension": ".py",
   "mimetype": "text/x-python",
   "name": "python",
   "nbconvert_exporter": "python",
   "pygments_lexer": "ipython3",
   "version": "3.9.6"
  }
 },
 "nbformat": 4,
 "nbformat_minor": 5
}
