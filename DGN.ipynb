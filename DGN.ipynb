{
 "cells": [
  {
   "cell_type": "code",
   "execution_count": 18,
   "id": "bb062f83-afed-4432-8a02-fbfeb9c1a346",
   "metadata": {},
   "outputs": [],
   "source": [
    "import torch.nn as nn\n",
    "import torch.nn.functional as F\n",
    "import matplotlib.pyplot as plt\n",
    "import time\n",
    "import math\n",
    "import numpy as np\n",
    "import random\n",
    "import torch\n",
    "from torch.utils.data import Dataset, DataLoader"
   ]
  },
  {
   "cell_type": "code",
   "execution_count": 69,
   "id": "94067a93-00a4-4c96-91c7-9ea553df1ca1",
   "metadata": {},
   "outputs": [],
   "source": [
    "class DendriticGatedLayer(nn.Module):\n",
    "    def __init__(self, n_units, n_prev_layer_units, n_network_inputs):\n",
    "        super().__init__()\n",
    "        self.weights = nn.Parameter(torch.rand(n_units, n_prev_layer_units), requires_grad=True)\n",
    "        #self.halfplane_gates = torch.normal(torch.Tensor([[0]*n_units]*n_network_inputs)).T\n",
    "        self.halfplane_gates = torch.randn_like(torch.zeros(n_units,n_prev_layer_units,n_network_inputs))\n",
    "        \n",
    "        self.n_units = n_units\n",
    "        self.n_prev_layer_units = n_prev_layer_units\n",
    "        self.n_network_inputs = n_network_inputs\n",
    "        \n",
    "        \n",
    "    def forward(self, X, network_inputs, gate_threshold=0):\n",
    "        self.gate_states = torch.matmul(self.halfplane_gates, network_inputs) > gate_threshold\n",
    "        '''\n",
    "            self.gate_states is now a (n_units x n_prev_layer_units) array.\n",
    "            Each row gives the gate state of the afferent synapses of a single unit in the current layer\n",
    "        '''\n",
    "        \n",
    "        active_weights = torch.mul(self.gate_states, self.weights)\n",
    "        \n",
    "        '''\n",
    "            TODO\n",
    "        '''\n",
    "        \n",
    "class DendriticGatedNet(nn.Module):\n",
    "    def __init__(self, n_inputs, n_hiddens, n_out):\n",
    "        super().__init__()\n",
    "        self.n_inputs = n_inputs\n",
    "        self.n_hiddens = n_hiddens\n",
    "        self.n_out = n_out\n",
    "        \n",
    "        self.layer1 = DendriticGatedLayer(\n",
    "            n_units=n_hiddens,\n",
    "            n_prev_layer_units=n_inputs,\n",
    "            n_network_inputs=n_inputs\n",
    "        )\n",
    "        \n",
    "        self.layer2 = DendriticGatedLayer(\n",
    "            n_units=n_hiddens,\n",
    "            n_prev_layer_units=n_hiddens,\n",
    "            n_network_inputs=n_inputs\n",
    "        )\n",
    "        \n",
    "        self.outlayer = nn.Linear(n_hiddens, n_out)\n",
    "    \n",
    "    def forward(self, X):\n",
    "        '''\n",
    "            TODO\n",
    "        '''\n",
    "        None\n",
    "    "
   ]
  },
  {
   "cell_type": "code",
   "execution_count": 70,
   "id": "8ee83710-082b-4f96-bbf9-2fbee2a16300",
   "metadata": {},
   "outputs": [],
   "source": [
    "d = DendriticGatedLayer(10,5,2)"
   ]
  },
  {
   "cell_type": "code",
   "execution_count": 71,
   "id": "80dd08cb-ae66-47b0-bc26-98f7e58e575a",
   "metadata": {},
   "outputs": [
    {
     "data": {
      "text/plain": [
       "torch.Size([10, 5, 2])"
      ]
     },
     "execution_count": 71,
     "metadata": {},
     "output_type": "execute_result"
    }
   ],
   "source": [
    "d.halfplane_gates.shape"
   ]
  },
  {
   "cell_type": "code",
   "execution_count": 72,
   "id": "d297b61d-4cab-4542-a576-b4c7a21d9028",
   "metadata": {},
   "outputs": [],
   "source": [
    "nints = torch.Tensor([1, 2])"
   ]
  },
  {
   "cell_type": "code",
   "execution_count": 73,
   "id": "a74646d9-3b36-48b2-a175-d7ba29ab07e6",
   "metadata": {},
   "outputs": [
    {
     "data": {
      "text/plain": [
       "Parameter containing:\n",
       "tensor([[0.3554, 0.1049, 0.2705, 0.2355, 0.0898],\n",
       "        [0.9788, 0.0422, 0.1106, 0.5441, 0.8272],\n",
       "        [0.6372, 0.7918, 0.4002, 0.0792, 0.2660],\n",
       "        [0.0500, 0.4185, 0.7117, 0.8096, 0.8407],\n",
       "        [0.7752, 0.5017, 0.8510, 0.9329, 0.8001],\n",
       "        [0.9708, 0.6695, 0.5735, 0.0756, 0.6888],\n",
       "        [0.7754, 0.7473, 0.7093, 0.3587, 0.6916],\n",
       "        [0.9657, 0.5634, 0.3656, 0.2018, 0.1697],\n",
       "        [0.0021, 0.8924, 0.3840, 0.9474, 0.6527],\n",
       "        [0.0797, 0.9404, 0.4061, 0.9397, 0.5388]], requires_grad=True)"
      ]
     },
     "execution_count": 73,
     "metadata": {},
     "output_type": "execute_result"
    }
   ],
   "source": [
    "d.weights"
   ]
  },
  {
   "cell_type": "code",
   "execution_count": 74,
   "id": "11ade59b-ccf3-4cca-9420-e029c01e1ddd",
   "metadata": {},
   "outputs": [],
   "source": [
    "d.gate_states = torch.matmul(d.halfplane_gates, nints) > 0"
   ]
  },
  {
   "cell_type": "code",
   "execution_count": 68,
   "id": "0a96d079-dded-48c0-baad-5ef4e6fb3a23",
   "metadata": {},
   "outputs": [
    {
     "data": {
      "text/plain": [
       "tensor([[0.0000, 0.0000, 0.0000, 0.0000, 0.0000],\n",
       "        [0.3371, 0.3376, 0.0000, 0.7723, 0.5539],\n",
       "        [0.9596, 0.4867, 0.0000, 0.0000, 0.4136],\n",
       "        [0.8265, 0.0000, 0.0000, 0.8945, 0.1709],\n",
       "        [0.0000, 0.0000, 0.0000, 0.0000, 0.0000],\n",
       "        [0.6275, 0.0000, 0.0000, 0.6731, 0.0000],\n",
       "        [0.9331, 0.5181, 0.0000, 0.0000, 0.0000],\n",
       "        [0.0000, 0.1989, 0.3595, 0.0000, 0.1478],\n",
       "        [0.0000, 0.6895, 0.0000, 0.0000, 0.0000],\n",
       "        [0.0000, 0.4793, 0.0000, 0.9342, 0.3264]], grad_fn=<MulBackward0>)"
      ]
     },
     "execution_count": 68,
     "metadata": {},
     "output_type": "execute_result"
    }
   ],
   "source": [
    "torch.mul(d.gate_states, d.weights)"
   ]
  },
  {
   "cell_type": "code",
   "execution_count": 39,
   "id": "0f1b6ab8-1ae4-4a11-bb2d-27aa9c28f805",
   "metadata": {},
   "outputs": [
    {
     "data": {
      "text/plain": [
       "tensor([[[-0.8190, -0.7637],\n",
       "         [-0.4799, -0.0825],\n",
       "         [ 0.0427,  0.6324],\n",
       "         [-1.2150, -0.7130],\n",
       "         [ 1.2596, -0.0982]],\n",
       "\n",
       "        [[-0.4832,  0.4515],\n",
       "         [-0.5670, -1.2686],\n",
       "         [-0.5599, -1.5672],\n",
       "         [-1.4474,  0.8022],\n",
       "         [-0.0559, -1.0652]],\n",
       "\n",
       "        [[ 0.6129, -1.0537],\n",
       "         [ 0.6510, -0.3724],\n",
       "         [ 0.2602, -1.9522],\n",
       "         [-0.3411, -0.5974],\n",
       "         [-1.6851,  1.1642]],\n",
       "\n",
       "        [[-0.6132, -1.3896],\n",
       "         [-1.3078,  0.2334],\n",
       "         [-0.1705, -0.3765],\n",
       "         [ 0.2383,  0.0578],\n",
       "         [ 1.2325,  0.3557]],\n",
       "\n",
       "        [[-0.3953,  0.3149],\n",
       "         [ 0.3031,  0.9879],\n",
       "         [-0.2411,  0.1035],\n",
       "         [ 1.1008, -1.3745],\n",
       "         [ 0.0364,  1.2497]],\n",
       "\n",
       "        [[-1.9182,  0.6105],\n",
       "         [-1.6942, -0.5275],\n",
       "         [-1.2167, -0.4694],\n",
       "         [-0.1722, -1.7400],\n",
       "         [-0.4286, -0.5878]],\n",
       "\n",
       "        [[-0.8983,  0.0086],\n",
       "         [-0.7074,  0.9069],\n",
       "         [-0.1669, -0.1947],\n",
       "         [ 1.0059,  0.9120],\n",
       "         [-0.2957,  0.2077]],\n",
       "\n",
       "        [[-2.4115,  0.4113],\n",
       "         [ 0.3341,  0.9876],\n",
       "         [-0.3233,  0.9329],\n",
       "         [ 0.5803,  1.2479],\n",
       "         [ 1.1225,  0.7123]],\n",
       "\n",
       "        [[ 1.0246,  0.2135],\n",
       "         [-0.9626,  0.8336],\n",
       "         [ 0.9751, -0.0594],\n",
       "         [ 1.3200, -0.9738],\n",
       "         [ 0.0429, -1.2941]],\n",
       "\n",
       "        [[ 1.7979,  0.4576],\n",
       "         [-0.7761,  1.1409],\n",
       "         [-0.9772, -0.7355],\n",
       "         [ 0.4843, -0.8333],\n",
       "         [ 0.3856, -0.3040]]])"
      ]
     },
     "execution_count": 39,
     "metadata": {},
     "output_type": "execute_result"
    }
   ],
   "source": [
    "d.halfplane_gates"
   ]
  },
  {
   "cell_type": "code",
   "execution_count": null,
   "id": "a977b2f4-042e-4ef3-94f5-2614a5130b2f",
   "metadata": {},
   "outputs": [],
   "source": []
  }
 ],
 "metadata": {
  "kernelspec": {
   "display_name": "Python 3 (ipykernel)",
   "language": "python",
   "name": "python3"
  },
  "language_info": {
   "codemirror_mode": {
    "name": "ipython",
    "version": 3
   },
   "file_extension": ".py",
   "mimetype": "text/x-python",
   "name": "python",
   "nbconvert_exporter": "python",
   "pygments_lexer": "ipython3",
   "version": "3.9.6"
  }
 },
 "nbformat": 4,
 "nbformat_minor": 5
}
