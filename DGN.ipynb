{
 "cells": [
  {
   "cell_type": "code",
   "execution_count": 2,
   "id": "bb062f83-afed-4432-8a02-fbfeb9c1a346",
   "metadata": {},
   "outputs": [],
   "source": [
    "import torch.nn as nn\n",
    "import torch.nn.functional as F\n",
    "import matplotlib.pyplot as plt\n",
    "import time\n",
    "import math\n",
    "import numpy as np\n",
    "import random\n",
    "import torch\n",
    "from torch.utils.data import Dataset, DataLoader"
   ]
  },
  {
   "cell_type": "code",
   "execution_count": 232,
   "id": "94067a93-00a4-4c96-91c7-9ea553df1ca1",
   "metadata": {},
   "outputs": [],
   "source": [
    "class DendriticGatedLayer(nn.Module):\n",
    "    def __init__(self, n_units, n_prev_layer_units, n_network_inputs):\n",
    "        super().__init__()\n",
    "        self.weights = nn.Parameter(torch.rand(n_units, n_prev_layer_units), requires_grad=True)\n",
    "        #self.halfplane_gates = torch.normal(torch.Tensor([[0]*n_units]*n_network_inputs)).T\n",
    "        self.halfplane_gates = torch.randn_like(torch.zeros(n_units,n_prev_layer_units,n_network_inputs))\n",
    "        \n",
    "        self.n_units = n_units\n",
    "        self.n_prev_layer_units = n_prev_layer_units\n",
    "        self.n_network_inputs = n_network_inputs\n",
    "        \n",
    "        \n",
    "    def forward(self, X, network_inputs, gate_threshold=0):\n",
    "        gating = (self.halfplane_gates @ network_inputs.T)\n",
    "        gate_states = torch.permute(gating, (2,0,1)) > 0\n",
    "        active_weights = torch.mul(self.weights.repeat([X.shape[0],1,1]), gate_states)\n",
    "        output = (active_weights @ X.T)[0].T\n",
    "        \n",
    "        '''\n",
    "            self.gate_states is now a (n_units x n_prev_layer_units) array.\n",
    "            Each row gives the gate state of the afferent synapses of a single unit in the current layer\n",
    "        '''\n",
    "        return output\n",
    "        \n",
    "\n",
    "class DendriticGatedNet(nn.Module):\n",
    "    def __init__(self, n_inputs, n_hiddens, n_out):\n",
    "        super().__init__()\n",
    "        self.n_inputs = n_inputs\n",
    "        self.n_hiddens = n_hiddens\n",
    "        self.n_out = n_out\n",
    "        \n",
    "        self.layer1 = DendriticGatedLayer(\n",
    "            n_units=n_hiddens,\n",
    "            n_prev_layer_units=n_inputs,\n",
    "            n_network_inputs=n_inputs\n",
    "        )\n",
    "        \n",
    "        self.layer2 = DendriticGatedLayer(\n",
    "            n_units=n_hiddens,\n",
    "            n_prev_layer_units=n_hiddens,\n",
    "            n_network_inputs=n_inputs\n",
    "        )\n",
    "        \n",
    "        self.outlayer = nn.Linear(n_hiddens, n_out)\n",
    "    \n",
    "    def forward(self, X):\n",
    "        layer1_activity = self.layer1.forward(X,X)\n",
    "        layer2_activity = self.layer2.forward(layer1_activity, X)\n",
    "        out_activity = self.outlayer(layer2_activity)\n",
    "        \n",
    "        return F.relu(out_activity)"
   ]
  },
  {
   "cell_type": "code",
   "execution_count": 233,
   "id": "da7dec4e-4a60-4b01-92ef-94f1eae8394b",
   "metadata": {},
   "outputs": [],
   "source": [
    "net = DendriticGatedNet(2,5,10)"
   ]
  },
  {
   "cell_type": "code",
   "execution_count": 234,
   "id": "0ca84f49-e730-42fd-b148-539fdab50bf5",
   "metadata": {},
   "outputs": [],
   "source": [
    "network_inputs = torch.Tensor([[1,1]])"
   ]
  },
  {
   "cell_type": "code",
   "execution_count": 235,
   "id": "def921ef-cefd-47df-b8d4-a0993dacd897",
   "metadata": {},
   "outputs": [
    {
     "data": {
      "text/plain": [
       "tensor([[0.0727, 0.0000, 0.7340, 0.0000, 0.0000, 0.0000, 0.0000, 0.3953, 0.0000,\n",
       "         0.5551]], grad_fn=<ReluBackward0>)"
      ]
     },
     "execution_count": 235,
     "metadata": {},
     "output_type": "execute_result"
    }
   ],
   "source": [
    "net(network_inputs)"
   ]
  },
  {
   "cell_type": "code",
   "execution_count": null,
   "id": "b342e202-b564-4a8f-be0d-96ac428e0276",
   "metadata": {},
   "outputs": [],
   "source": []
  },
  {
   "cell_type": "code",
   "execution_count": 193,
   "id": "f9cc5ec2-f577-41ec-9bd3-e6643f7f9986",
   "metadata": {},
   "outputs": [],
   "source": [
    "d = DendriticGatedLayer(5,2,2)"
   ]
  },
  {
   "cell_type": "code",
   "execution_count": null,
   "id": "211f97ea-9fd1-44cb-8ad7-0d4085410240",
   "metadata": {},
   "outputs": [],
   "source": []
  }
 ],
 "metadata": {
  "kernelspec": {
   "display_name": "Python 3 (ipykernel)",
   "language": "python",
   "name": "python3"
  },
  "language_info": {
   "codemirror_mode": {
    "name": "ipython",
    "version": 3
   },
   "file_extension": ".py",
   "mimetype": "text/x-python",
   "name": "python",
   "nbconvert_exporter": "python",
   "pygments_lexer": "ipython3",
   "version": "3.9.6"
  }
 },
 "nbformat": 4,
 "nbformat_minor": 5
}
