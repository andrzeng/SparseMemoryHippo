{
 "cells": [
  {
   "cell_type": "code",
   "execution_count": 1,
   "id": "bb062f83-afed-4432-8a02-fbfeb9c1a346",
   "metadata": {},
   "outputs": [],
   "source": [
    "import torch.nn as nn\n",
    "import torch.nn.functional as F\n",
    "import matplotlib.pyplot as plt\n",
    "import time\n",
    "import math\n",
    "import numpy as np\n",
    "import random\n",
    "import torch\n",
    "from torch.utils.data import Dataset, DataLoader"
   ]
  },
  {
   "cell_type": "code",
   "execution_count": null,
   "id": "94067a93-00a4-4c96-91c7-9ea553df1ca1",
   "metadata": {},
   "outputs": [],
   "source": [
    "class DendriticGatedLayer(nn.Module):\n",
    "    def __init__(self, n_units, n_prev_layer_units, n_network_inputs):\n",
    "        self.weights = nn.Parameter(torch.zeros(n_units, n_prev_layer_units), requires_grad=True)\n",
    "\n",
    "class DendriticGatedNet(nn.Module):\n",
    "    def __init__(self, n_inputs, n_hiddens, n_out, n_layers):\n",
    "        '''\n",
    "            To-do\n",
    "        '''\n",
    "        \n",
    "        None\n",
    "        \n",
    "    "
   ]
  }
 ],
 "metadata": {
  "kernelspec": {
   "display_name": "Python 3 (ipykernel)",
   "language": "python",
   "name": "python3"
  },
  "language_info": {
   "codemirror_mode": {
    "name": "ipython",
    "version": 3
   },
   "file_extension": ".py",
   "mimetype": "text/x-python",
   "name": "python",
   "nbconvert_exporter": "python",
   "pygments_lexer": "ipython3",
   "version": "3.9.6"
  }
 },
 "nbformat": 4,
 "nbformat_minor": 5
}
